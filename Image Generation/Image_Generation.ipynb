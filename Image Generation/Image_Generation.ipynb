{
 "cells": [
  {
   "cell_type": "markdown",
   "metadata": {},
   "source": [
    "# Image Genration"
   ]
  },
  {
   "cell_type": "code",
   "execution_count": null,
   "metadata": {},
   "outputs": [],
   "source": [
    "# Import necessary libraries\n",
    "import os\n",
    "import numpy as np\n",
    "from tensorflow import keras\n",
    "from keras.layers import Dense,LeakyReLU,Reshape,Conv2DTranspose,Conv2D\n",
    "# Set the path to the generator weight file\n",
    "weight_file_path = './my_model.h5'\n",
    "\n",
    "# Set the path to save the fake images\n",
    "output_folder = 'fake_Images'\n",
    "os.makedirs(output_folder, exist_ok=True)\n",
    "\n",
    "# Load the generator model\n",
    "latent_dim = 100  # Change this if your model has a different latent dimension\n",
    "generator = keras.Sequential()\n",
    "n_nodes = 256 * 4 * 4 \n",
    "\n",
    "generator.add(Dense(n_nodes, input_dim=latent_dim))\n",
    "generator.add(LeakyReLU(alpha=0.2))\n",
    "generator.add(Reshape((4, 4, 256)))\n",
    "\n",
    "#upsample to 8x8\n",
    "generator.add(Conv2DTranspose(128, (4,4), strides=(2,2), padding='same'))\n",
    "generator.add(LeakyReLU(alpha=0.2))\n",
    "\n",
    "#upsample to 16x16\n",
    "generator.add(Conv2DTranspose(128, (4,4), strides=(2,2), padding='same'))\n",
    "generator.add(LeakyReLU(alpha=0.2))  \n",
    "\n",
    "#upsample to 32x32\n",
    "generator.add(Conv2DTranspose(128, (4,4), strides=(2,2), padding='same'))\n",
    "generator.add(LeakyReLU(alpha=0.2)) \n",
    "\n",
    "generator.add(Conv2D(3, (4,4), activation='tanh', padding='same'))\n",
    "\n",
    "generator.load_weights(weight_file_path)\n",
    "\n",
    "# Generate fake images\n",
    "num_images_to_generate = 5000  # Change this as needed\n",
    "\n",
    "for i in range(num_images_to_generate):\n",
    "    noise = np.random.normal(0, 1, (1, latent_dim))\n",
    "    generated_image = generator.predict(noise)\n",
    "    generated_image = (generated_image + 1) / 2.0  # Scale pixel values to [0, 1]\n",
    "\n",
    "    # Save the generated image\n",
    "    image_path = os.path.join(output_folder, f'fake_image_{i + 1}.png')\n",
    "    keras.preprocessing.image.save_img(image_path, generated_image[0])\n",
    "\n",
    "print(f'{num_images_to_generate} fake images generated and saved in {output_folder}.')\n"
   ]
  }
 ],
 "metadata": {
  "kernelspec": {
   "display_name": "Python 3",
   "language": "python",
   "name": "python3"
  },
  "language_info": {
   "codemirror_mode": {
    "name": "ipython",
    "version": 3
   },
   "file_extension": ".py",
   "mimetype": "text/x-python",
   "name": "python",
   "nbconvert_exporter": "python",
   "pygments_lexer": "ipython3",
   "version": "3.12.2"
  }
 },
 "nbformat": 4,
 "nbformat_minor": 2
}
